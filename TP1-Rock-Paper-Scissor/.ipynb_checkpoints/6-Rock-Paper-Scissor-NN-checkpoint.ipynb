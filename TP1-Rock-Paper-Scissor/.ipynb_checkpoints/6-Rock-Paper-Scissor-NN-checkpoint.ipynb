{
 "cells": [
  {
   "cell_type": "markdown",
   "metadata": {},
   "source": [
    "# Rock-Paper-Scissor Classifier\n",
    "\n",
    "This notebook present a classification of the three different figures: rock , paper and Scissors.THe model used is a simple fully connected network.Implemented with the Python package Torch. "
   ]
  },
  {
   "cell_type": "markdown",
   "metadata": {},
   "source": [
    "# Importing the required packages"
   ]
  },
  {
   "cell_type": "code",
   "execution_count": 3,
   "metadata": {},
   "outputs": [],
   "source": [
    "import numpy\n",
    "import numpy as np\n",
    "import torch\n",
    "import torch.nn as nn\n",
    "import torch.nn.functional as F\n",
    "import torch.utils.data.dataloader as dataloader\n",
    "import torch.optim as optim\n",
    "\n",
    "from PIL import Image\n",
    "from torch.utils.data.dataset import Dataset\n",
    "from torch.utils.data import TensorDataset\n",
    "from torch.autograd import Variable\n",
    "from torchvision import transforms, datasets\n",
    "import matplotlib.pyplot as plt\n",
    "SEED = 1\n",
    "# Is CUDA available?\n",
    "cuda = torch.cuda.is_available()\n",
    "\n",
    "# For reproducibility\n",
    "torch.manual_seed(SEED)\n",
    "\n",
    "if cuda:\n",
    "    torch.cuda.manual_seed(SEED)"
   ]
  },
  {
   "cell_type": "markdown",
   "metadata": {},
   "source": [
    "# Data preparation"
   ]
  },
  {
   "cell_type": "code",
   "execution_count": 4,
   "metadata": {},
   "outputs": [],
   "source": [
    "#Setting data\n",
    "transformat = transforms.Compose([\n",
    "                                  transforms.Grayscale(),\n",
    "                                  transforms.RandomRotation(180),\n",
    "                                  transforms.RandomHorizontalFlip(),\n",
    "                                  transforms.ToTensor()])\n",
    "dataset = datasets.ImageFolder('PPC2/.',transform = transformat)\n",
    "\n",
    "#Splitting DataSet into Train  and Test\n",
    "n = len(dataset)\n",
    "ntrain = int(0.8 *n)\n",
    "ntest = n - ntrain\n",
    "train_data, test_data = torch.utils.data.random_split(dataset, [ntrain, ntest])\n",
    "nbatch = 40\n",
    "# Create the dataloader\n",
    "dataloader_train = dict(shuffle=True, batch_size=nbatch,num_workers=4, pin_memory=True) if cuda else dict(shuffle=True, batch_size=64)\n",
    "train_loader = dataloader.DataLoader(train_data, **dataloader_train)\n",
    "\n",
    "dataloader_test = dict(shuffle=True, batch_size=ntest,num_workers=4, pin_memory=True) if cuda else dict(shuffle=True, batch_size=64)\n",
    "test_loader = dataloader.DataLoader(test_data, **dataloader_test)"
   ]
  },
  {
   "cell_type": "markdown",
   "metadata": {},
   "source": [
    "# Build the model"
   ]
  },
  {
   "cell_type": "code",
   "execution_count": 6,
   "metadata": {},
   "outputs": [],
   "source": [
    "# Definition of the one-hidden-layer.\n",
    "class Model(nn.Module):\n",
    "    \"\"\"\n",
    "    fc1 : nn.Linear object : The fully-connected layer.\n",
    "    fcout : nn.Linear object : The output layer.\n",
    "    \"\"\"\n",
    "    \n",
    "    def __init__(self):\n",
    "        super(Model, self).__init__()\n",
    "        #The input layer consists of 1024 greyscale pixels which constitute the input data of our data set.\n",
    "        self.fc1 = nn.Linear(32*32, 16*16)  # 256 neuron in the hidden layer\n",
    "        self.fcout = nn.Linear(16*16, 3)  # There are 3 differents classes\n",
    "\n",
    "    def forward(self, x):\n",
    "        \"\"\"\n",
    "        x : The input of the model.\n",
    "        output : the classification of x\n",
    "        \"\"\"\n",
    "        x = x.view((-1, 1024))\n",
    "        out = F.relu(self.fc1(x))\n",
    "        out = self.fcout(out)\n",
    "        return F.log_softmax(out, dim=0)    \n",
    "    \n",
    "    \n",
    "model = Model()\n",
    "if cuda:\n",
    "    model.cuda()\n",
    "optimizer = optim.Adam(model.parameters(), lr=1e-3)"
   ]
  },
  {
   "cell_type": "markdown",
   "metadata": {},
   "source": [
    "# Training"
   ]
  },
  {
   "cell_type": "code",
   "execution_count": 7,
   "metadata": {},
   "outputs": [
    {
     "name": "stdout",
     "output_type": "stream",
     "text": [
      " Train Epoch: 1/100 [161/161 (80%)]\tLoss: 1.142702\t Test Accuracy: 34.1463%\n",
      " Train Epoch: 2/100 [161/161 (80%)]\tLoss: 1.126161\t Test Accuracy: 26.8293%\n",
      " Train Epoch: 3/100 [161/161 (80%)]\tLoss: 1.171230\t Test Accuracy: 26.8293%\n",
      " Train Epoch: 4/100 [161/161 (80%)]\tLoss: 1.157257\t Test Accuracy: 31.7073%\n",
      " Train Epoch: 5/100 [161/161 (80%)]\tLoss: 1.051622\t Test Accuracy: 29.2683%\n",
      " Train Epoch: 6/100 [161/161 (80%)]\tLoss: 1.078771\t Test Accuracy: 29.2683%\n",
      " Train Epoch: 7/100 [161/161 (80%)]\tLoss: 1.128258\t Test Accuracy: 39.0244%\n",
      " Train Epoch: 8/100 [161/161 (80%)]\tLoss: 1.099842\t Test Accuracy: 43.9024%\n",
      " Train Epoch: 9/100 [161/161 (80%)]\tLoss: 1.150354\t Test Accuracy: 34.1463%\n",
      " Train Epoch: 10/100 [161/161 (80%)]\tLoss: 1.082075\t Test Accuracy: 29.2683%\n",
      " Train Epoch: 11/100 [161/161 (80%)]\tLoss: 1.081089\t Test Accuracy: 29.2683%\n",
      " Train Epoch: 12/100 [161/161 (80%)]\tLoss: 1.078863\t Test Accuracy: 24.3902%\n",
      " Train Epoch: 13/100 [161/161 (80%)]\tLoss: 1.175240\t Test Accuracy: 26.8293%\n",
      " Train Epoch: 14/100 [161/161 (80%)]\tLoss: 1.071875\t Test Accuracy: 29.2683%\n",
      " Train Epoch: 15/100 [161/161 (80%)]\tLoss: 1.079919\t Test Accuracy: 34.1463%\n",
      " Train Epoch: 16/100 [161/161 (80%)]\tLoss: 1.073353\t Test Accuracy: 29.2683%\n",
      " Train Epoch: 17/100 [161/161 (80%)]\tLoss: 1.026423\t Test Accuracy: 26.8293%\n",
      " Train Epoch: 18/100 [161/161 (80%)]\tLoss: 1.098853\t Test Accuracy: 26.8293%\n",
      " Train Epoch: 19/100 [161/161 (80%)]\tLoss: 0.996716\t Test Accuracy: 31.7073%\n",
      " Train Epoch: 20/100 [161/161 (80%)]\tLoss: 1.092950\t Test Accuracy: 29.2683%\n",
      " Train Epoch: 21/100 [161/161 (80%)]\tLoss: 1.136012\t Test Accuracy: 29.2683%\n",
      " Train Epoch: 22/100 [161/161 (80%)]\tLoss: 1.054736\t Test Accuracy: 31.7073%\n",
      " Train Epoch: 23/100 [161/161 (80%)]\tLoss: 1.120722\t Test Accuracy: 29.2683%\n",
      " Train Epoch: 24/100 [161/161 (80%)]\tLoss: 1.093615\t Test Accuracy: 29.2683%\n",
      " Train Epoch: 25/100 [161/161 (80%)]\tLoss: 1.076206\t Test Accuracy: 24.3902%\n",
      " Train Epoch: 26/100 [161/161 (80%)]\tLoss: 0.996584\t Test Accuracy: 24.3902%\n",
      " Train Epoch: 27/100 [161/161 (80%)]\tLoss: 1.062184\t Test Accuracy: 19.5122%\n",
      " Train Epoch: 28/100 [161/161 (80%)]\tLoss: 1.138149\t Test Accuracy: 21.9512%\n",
      " Train Epoch: 29/100 [161/161 (80%)]\tLoss: 1.135733\t Test Accuracy: 21.9512%\n",
      " Train Epoch: 30/100 [161/161 (80%)]\tLoss: 1.039358\t Test Accuracy: 19.5122%\n",
      " Train Epoch: 31/100 [161/161 (80%)]\tLoss: 1.106504\t Test Accuracy: 19.5122%\n",
      " Train Epoch: 32/100 [161/161 (80%)]\tLoss: 1.052844\t Test Accuracy: 21.9512%\n",
      " Train Epoch: 33/100 [161/161 (80%)]\tLoss: 1.039952\t Test Accuracy: 24.3902%\n",
      " Train Epoch: 34/100 [161/161 (80%)]\tLoss: 1.092351\t Test Accuracy: 21.9512%\n",
      " Train Epoch: 35/100 [161/161 (80%)]\tLoss: 1.021841\t Test Accuracy: 29.2683%\n",
      " Train Epoch: 36/100 [161/161 (80%)]\tLoss: 1.055368\t Test Accuracy: 26.8293%\n",
      " Train Epoch: 37/100 [161/161 (80%)]\tLoss: 1.083625\t Test Accuracy: 29.2683%\n",
      " Train Epoch: 38/100 [161/161 (80%)]\tLoss: 1.062195\t Test Accuracy: 29.2683%\n",
      " Train Epoch: 39/100 [161/161 (80%)]\tLoss: 1.064503\t Test Accuracy: 34.1463%\n",
      " Train Epoch: 40/100 [161/161 (80%)]\tLoss: 1.035159\t Test Accuracy: 34.1463%\n",
      " Train Epoch: 41/100 [161/161 (80%)]\tLoss: 1.073058\t Test Accuracy: 31.7073%\n",
      " Train Epoch: 42/100 [161/161 (80%)]\tLoss: 1.017726\t Test Accuracy: 26.8293%\n",
      " Train Epoch: 43/100 [161/161 (80%)]\tLoss: 1.060346\t Test Accuracy: 26.8293%\n",
      " Train Epoch: 44/100 [161/161 (80%)]\tLoss: 1.100918\t Test Accuracy: 26.8293%\n",
      " Train Epoch: 45/100 [161/161 (80%)]\tLoss: 1.052135\t Test Accuracy: 21.9512%\n",
      " Train Epoch: 46/100 [161/161 (80%)]\tLoss: 1.003786\t Test Accuracy: 19.5122%\n",
      " Train Epoch: 47/100 [161/161 (80%)]\tLoss: 0.994081\t Test Accuracy: 17.0732%\n",
      " Train Epoch: 48/100 [161/161 (80%)]\tLoss: 1.087295\t Test Accuracy: 19.5122%\n",
      " Train Epoch: 49/100 [161/161 (80%)]\tLoss: 1.026083\t Test Accuracy: 24.3902%\n",
      " Train Epoch: 50/100 [161/161 (80%)]\tLoss: 1.063583\t Test Accuracy: 26.8293%\n",
      " Train Epoch: 51/100 [161/161 (80%)]\tLoss: 1.092773\t Test Accuracy: 21.9512%\n",
      " Train Epoch: 52/100 [161/161 (80%)]\tLoss: 1.103269\t Test Accuracy: 21.9512%\n",
      " Train Epoch: 53/100 [161/161 (80%)]\tLoss: 1.074363\t Test Accuracy: 24.3902%\n",
      " Train Epoch: 54/100 [161/161 (80%)]\tLoss: 0.984086\t Test Accuracy: 29.2683%\n",
      " Train Epoch: 55/100 [161/161 (80%)]\tLoss: 1.033524\t Test Accuracy: 29.2683%\n",
      " Train Epoch: 56/100 [161/161 (80%)]\tLoss: 0.994857\t Test Accuracy: 26.8293%\n",
      " Train Epoch: 57/100 [161/161 (80%)]\tLoss: 0.959713\t Test Accuracy: 21.9512%\n",
      " Train Epoch: 58/100 [161/161 (80%)]\tLoss: 1.105182\t Test Accuracy: 26.8293%\n",
      " Train Epoch: 59/100 [161/161 (80%)]\tLoss: 1.014751\t Test Accuracy: 26.8293%\n",
      " Train Epoch: 60/100 [161/161 (80%)]\tLoss: 0.931064\t Test Accuracy: 26.8293%\n",
      " Train Epoch: 61/100 [161/161 (80%)]\tLoss: 1.094889\t Test Accuracy: 24.3902%\n",
      " Train Epoch: 62/100 [161/161 (80%)]\tLoss: 1.060288\t Test Accuracy: 29.2683%\n",
      " Train Epoch: 63/100 [161/161 (80%)]\tLoss: 0.962685\t Test Accuracy: 26.8293%\n",
      " Train Epoch: 64/100 [161/161 (80%)]\tLoss: 1.049977\t Test Accuracy: 26.8293%\n",
      " Train Epoch: 65/100 [161/161 (80%)]\tLoss: 1.051139\t Test Accuracy: 31.7073%\n",
      " Train Epoch: 66/100 [161/161 (80%)]\tLoss: 1.058700\t Test Accuracy: 34.1463%\n",
      " Train Epoch: 67/100 [161/161 (80%)]\tLoss: 0.990709\t Test Accuracy: 41.4634%\n",
      " Train Epoch: 68/100 [161/161 (80%)]\tLoss: 1.010157\t Test Accuracy: 29.2683%\n",
      " Train Epoch: 69/100 [161/161 (80%)]\tLoss: 1.049283\t Test Accuracy: 24.3902%\n",
      " Train Epoch: 70/100 [161/161 (80%)]\tLoss: 1.048827\t Test Accuracy: 24.3902%\n",
      " Train Epoch: 71/100 [161/161 (80%)]\tLoss: 1.088431\t Test Accuracy: 24.3902%\n",
      " Train Epoch: 72/100 [161/161 (80%)]\tLoss: 1.047722\t Test Accuracy: 29.2683%\n",
      " Train Epoch: 73/100 [161/161 (80%)]\tLoss: 1.108687\t Test Accuracy: 36.5854%\n",
      " Train Epoch: 74/100 [161/161 (80%)]\tLoss: 0.973472\t Test Accuracy: 26.8293%\n",
      " Train Epoch: 75/100 [161/161 (80%)]\tLoss: 1.066723\t Test Accuracy: 34.1463%\n",
      " Train Epoch: 76/100 [161/161 (80%)]\tLoss: 1.008324\t Test Accuracy: 34.1463%\n",
      " Train Epoch: 77/100 [161/161 (80%)]\tLoss: 1.054504\t Test Accuracy: 26.8293%\n",
      " Train Epoch: 78/100 [161/161 (80%)]\tLoss: 1.048907\t Test Accuracy: 26.8293%\n",
      " Train Epoch: 79/100 [161/161 (80%)]\tLoss: 1.007747\t Test Accuracy: 26.8293%\n",
      " Train Epoch: 80/100 [161/161 (80%)]\tLoss: 1.038839\t Test Accuracy: 29.2683%\n",
      " Train Epoch: 81/100 [161/161 (80%)]\tLoss: 1.001137\t Test Accuracy: 21.9512%\n",
      " Train Epoch: 82/100 [161/161 (80%)]\tLoss: 1.045411\t Test Accuracy: 21.9512%\n",
      " Train Epoch: 83/100 [161/161 (80%)]\tLoss: 0.984236\t Test Accuracy: 24.3902%\n",
      " Train Epoch: 84/100 [161/161 (80%)]\tLoss: 0.983472\t Test Accuracy: 21.9512%\n",
      " Train Epoch: 85/100 [161/161 (80%)]\tLoss: 0.947261\t Test Accuracy: 24.3902%\n",
      " Train Epoch: 86/100 [161/161 (80%)]\tLoss: 1.018891\t Test Accuracy: 24.3902%\n",
      " Train Epoch: 87/100 [161/161 (80%)]\tLoss: 1.072205\t Test Accuracy: 29.2683%\n",
      " Train Epoch: 88/100 [161/161 (80%)]\tLoss: 0.911667\t Test Accuracy: 34.1463%\n",
      " Train Epoch: 89/100 [161/161 (80%)]\tLoss: 0.963207\t Test Accuracy: 34.1463%\n",
      " Train Epoch: 90/100 [161/161 (80%)]\tLoss: 1.000351\t Test Accuracy: 34.1463%\n",
      " Train Epoch: 91/100 [161/161 (80%)]\tLoss: 1.042781\t Test Accuracy: 34.1463%\n",
      " Train Epoch: 92/100 [161/161 (80%)]\tLoss: 1.043360\t Test Accuracy: 29.2683%\n",
      " Train Epoch: 93/100 [161/161 (80%)]\tLoss: 1.078793\t Test Accuracy: 29.2683%\n",
      " Train Epoch: 94/100 [161/161 (80%)]\tLoss: 1.109542\t Test Accuracy: 26.8293%\n",
      " Train Epoch: 95/100 [161/161 (80%)]\tLoss: 1.035564\t Test Accuracy: 29.2683%\n",
      " Train Epoch: 96/100 [161/161 (80%)]\tLoss: 1.026159\t Test Accuracy: 24.3902%\n",
      " Train Epoch: 97/100 [161/161 (80%)]\tLoss: 0.945432\t Test Accuracy: 26.8293%\n",
      " Train Epoch: 98/100 [161/161 (80%)]\tLoss: 1.124163\t Test Accuracy: 29.2683%\n",
      " Train Epoch: 99/100 [161/161 (80%)]\tLoss: 1.073574\t Test Accuracy: 31.7073%\n",
      " Train Epoch: 100/100 [161/161 (80%)]\tLoss: 0.998238\t Test Accuracy: 29.2683%\n"
     ]
    }
   ],
   "source": [
    "EPOCHS = 100\n",
    "losses = []\n",
    "\n",
    "# Evaluation of the loader\n",
    "evaluate = iter(test_loader)\n",
    "evaluate_x, evaluate_y = evaluate.next()\n",
    "if cuda:\n",
    "    evaluate_x, evaluate_y = evaluate_x.cuda(), evaluate_y.cuda()\n",
    "train_size = len(train_loader.dataset)\n",
    "batch_size = (train_size / nbatch) if (cuda) else  (train_size / 64)\n",
    "\n",
    "model.train()\n",
    "for epoch in range(EPOCHS):\n",
    "\n",
    "    for batch_idx, (data, target) in enumerate(train_loader):\n",
    "        # Get Samples\n",
    "        data, target = Variable(data), Variable(target)\n",
    "        \n",
    "        if cuda:\n",
    "            data, target = data.cuda(), target.cuda()\n",
    "        \n",
    "        # Init\n",
    "        optimizer.zero_grad()\n",
    "\n",
    "        # Predict\n",
    "        y_pred = model(data) \n",
    "\n",
    "        # Calculate loss\n",
    "        loss = F.cross_entropy(y_pred, target)\n",
    "        losses.append(loss.cpu().item())\n",
    "        # Backpropagation\n",
    "        loss.backward()\n",
    "        optimizer.step()\n",
    "        \n",
    "        \n",
    "        # Display\n",
    "        if batch_idx % 100 == 1:\n",
    "            print('\\r Train Epoch: {}/{} [{}/{} ({:.0f}%)]\\tLoss: {:.6f}'.format(\n",
    "                epoch+1,\n",
    "                EPOCHS,\n",
    "                batch_idx * len(data), \n",
    "                train_size,\n",
    "                100. * batch_idx / batch_size, \n",
    "                loss.cpu().item()), \n",
    "                end='')\n",
    "\n",
    "    # display final evaluation for this epoch\n",
    "    model.eval()\n",
    "    output = model(evaluate_x)\n",
    "    pred = output.data.max(1)[1]\n",
    "    d = pred.eq(evaluate_y.data).cpu()\n",
    "    accuracy = d.sum().item()/d.size()[0]\n",
    "    \n",
    "    print('\\r Train Epoch: {}/{} [{}/{} ({:.0f}%)]\\tLoss: {:.6f}\\t Test Accuracy: {:.4f}%'.format(\n",
    "        epoch+1,\n",
    "        EPOCHS,\n",
    "        train_size, \n",
    "        train_size,\n",
    "       100. * batch_idx / batch_size, \n",
    "        loss.cpu().item(),\n",
    "        accuracy*100,\n",
    "        end=''))"
   ]
  },
  {
   "cell_type": "code",
   "execution_count": 8,
   "metadata": {},
   "outputs": [
    {
     "data": {
      "text/plain": [
       "[<matplotlib.lines.Line2D at 0x7f8cc160f240>]"
      ]
     },
     "execution_count": 8,
     "metadata": {},
     "output_type": "execute_result"
    },
    {
     "data": {
      "image/png": "[encoded data removed]",
      "text/plain": [
       "<Figure size 432x288 with 1 Axes>"
      ]
     },
     "metadata": {
      "needs_background": "light"
     },
     "output_type": "display_data"
    }
   ],
   "source": [
    "plt.plot(losses)"
   ]
  },
  {
   "cell_type": "code",
   "execution_count": null,
   "metadata": {},
   "outputs": [],
   "source": []
  }
 ],
 "metadata": {
  "kernelspec": {
   "display_name": "Python 3",
   "language": "python",
   "name": "python3"
  },
  "language_info": {
   "codemirror_mode": {
    "name": "ipython",
    "version": 3
   },
   "file_extension": ".py",
   "mimetype": "text/x-python",
   "name": "python",
   "nbconvert_exporter": "python",
   "pygments_lexer": "ipython3",
   "version": "3.6.8"
  }
 },
 "nbformat": 4,
 "nbformat_minor": 2
}
