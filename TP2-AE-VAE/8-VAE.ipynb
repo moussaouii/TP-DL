{
 "cells": [
  {
   "cell_type": "markdown",
   "metadata": {},
   "source": [
    "# Variational Auto Encoder with disentanglement"
   ]
  },
  {
   "cell_type": "markdown",
   "metadata": {},
   "source": [
    "L'objectif de ce TP est de classifier des images de MNIST (Modified National Institute of Standards and Technology) database en dix sets ( de 0 à 9), en utilisant un variational auto-encoder algorithme du package Torch."
   ]
  },
  {
   "cell_type": "code",
   "execution_count": 1,
   "metadata": {},
   "outputs": [],
   "source": [
    "from __future__ import print_function\n",
    "\n",
    "%config IPCompleter.greedy=True\n",
    "\n",
    "import argparse, torch\n",
    "import torch.utils.data\n",
    "from torch import nn, optim\n",
    "from torch.nn import functional as F\n",
    "from torchvision import datasets, transforms\n",
    "from torchvision.utils import save_image\n",
    "import matplotlib.pyplot as plt\n",
    "\n",
    "batchsize = 128\n",
    "epochs = 10\n",
    "loginterval = 10\n",
    "cuda = torch.cuda.is_available()\n",
    "\n",
    "SEED = 1\n",
    "torch.manual_seed(SEED)\n",
    "\n",
    "device = torch.device(\"cuda\" if cuda else \"cpu\")\n",
    "\n",
    "kwargs = {'num_workers': 4, 'pin_memory': True} if cuda else {}\n",
    "train_loader = torch.utils.data.DataLoader(\n",
    "    datasets.MNIST('/tmp/data', train=True, download=True,\n",
    "                   transform=transforms.ToTensor()),\n",
    "    batch_size=batchsize, shuffle=True, **kwargs)\n",
    "test_loader = torch.utils.data.DataLoader(\n",
    "    datasets.MNIST('/tmp/data', train=False, transform=transforms.ToTensor()),\n",
    "    batch_size=batchsize, shuffle=True, **kwargs)"
   ]
  },
  {
   "cell_type": "markdown",
   "metadata": {},
   "source": [
    "# Model"
   ]
  },
  {
   "cell_type": "code",
   "execution_count": 2,
   "metadata": {},
   "outputs": [],
   "source": [
    "class VAE(nn.Module):\n",
    "    \"\"\"\n",
    "    Variational Auto Encoder model, with one hidden layer.\n",
    "    \n",
    "    Attributes\n",
    "    ----------\n",
    "    encoder : torch.nn.modules.linear.Sequential\n",
    "        The first fully-connected layer.\n",
    "    decoder : torch.nn.modules.linear.Sequential\n",
    "        The second fully connected layer.\n",
    "\n",
    "    \"\"\"       \n",
    "    def __init__(self):\n",
    "        super(VAE, self).__init__()\n",
    "\n",
    "        # create using nn.Sequential()\n",
    "        # decoder :FC (20 -> 400), RELU activation; FC (400, 784)\n",
    "        self.decoder = nn.Sequential(nn.Linear(20, 400), nn.ReLU(), nn.Linear(400, 784))\n",
    "        # and without using nn.Sequential, an encoder\n",
    "        #FC (784 -> 400), RELU activation\n",
    "        # then in parallel a FC (400, 20) for each mu / logvar\n",
    "        self.encoder = nn.Linear(784,400)\n",
    "        self.relu = nn.ReLU()\n",
    "        self.fc1 = nn.Linear(400,20)\n",
    "        self.fc2 = nn.Linear(400,20)\n",
    "\n",
    "    def encode(self, x):\n",
    "        \"\"\"\n",
    "        The encode pass.\n",
    "        \"\"\"\n",
    "        x_relu = self.relu(self.encoder(x))\n",
    "        mu = self.fc1(x_relu)\n",
    "        logvar = self.fc2(x_relu)\n",
    "        return mu, logvar\n",
    "\n",
    "    def reparameterize(self, mu, logvar):\n",
    "        \"\"\"\n",
    "        Reparameterize the parameters.\n",
    "        \"\"\"\n",
    "        # sample\n",
    "        std = torch.exp(0.5*logvar)\n",
    "        eps = torch.randn_like(std)\n",
    "        \n",
    "        return eps.mul(std).add_(mu)\n",
    "\n",
    "    def decode(self, z):\n",
    "        \"\"\"\n",
    "        The decode pass.\n",
    "        \"\"\"\n",
    "        return torch.sigmoid(self.decoder(z))\n",
    "\n",
    "    def forward(self, x):\n",
    "        \"\"\"\n",
    "        The forward pass of the global network.\n",
    "        \"\"\"\n",
    "        mu, logvar = self.encode(x.view(-1, 784))\n",
    "        z = self.reparameterize(mu, logvar)\n",
    "        return self.decode(z), mu, logvar\n",
    "\n",
    "model = VAE().to(device)\n",
    "optimizer = optim.Adam(model.parameters(), lr=1e-3)\n"
   ]
  },
  {
   "cell_type": "markdown",
   "metadata": {},
   "source": [
    "# Loss function"
   ]
  },
  {
   "cell_type": "code",
   "execution_count": 3,
   "metadata": {},
   "outputs": [],
   "source": [
    "def loss_function(recon_batch, x, mu, logvar, beta):\n",
    "    \"\"\"\n",
    "    Compute the bce as the binary-cross entropy across the batch as a sum.\n",
    "    \"\"\"\n",
    "    loss = nn.BCELoss(reduction='sum')\n",
    "    bce = loss(recon_batch, x)\n",
    "    #   Kullback-Leibler divergence losses summed over all elements and batch\n",
    "    kld = - 0.5 * torch.sum(1 + logvar - mu.pow(2) - logvar.exp())\n",
    "    # the beta factor allows disentanglement for values >>1\n",
    "    return bce+kld*beta"
   ]
  },
  {
   "cell_type": "markdown",
   "metadata": {},
   "source": [
    "# Train"
   ]
  },
  {
   "cell_type": "code",
   "execution_count": 4,
   "metadata": {},
   "outputs": [],
   "source": [
    "losses = []\n",
    "encode_grad = []\n",
    "fc1_grad = []\n",
    "fc2_grad = []\n",
    "def train(epoch, beta):\n",
    "    \"\"\"\n",
    "    The train phase of the model.\n",
    "    \"\"\"\n",
    "    model.train()\n",
    "    train_loss = 0\n",
    "    for batch_idx, (data, _) in enumerate(train_loader):\n",
    "        data = data.to(device)\n",
    "        optimizer.zero_grad()\n",
    "        recon_batch, mu, logvar = model(data)\n",
    "        loss = loss_function(recon_batch, data.view(-1, 784), mu, logvar, beta)\n",
    "        losses.append(loss.item())\n",
    "        loss.backward()\n",
    "        encode_grad.append(model.encoder.weight.grad.mean())\n",
    "        fc1_grad.append(model.fc1.weight.grad.mean())\n",
    "        fc2_grad.append(model.fc2.weight.grad.mean())\n",
    "        train_loss += loss.item()\n",
    "        optimizer.step()\n",
    "        if batch_idx % loginterval == 0:\n",
    "            print('\\r Train Epoch: {} [{}/{} ({:.0f}%)]\\tLoss: {:.1f}'.format(\n",
    "                epoch, batch_idx * len(data), len(train_loader.dataset),\n",
    "                100. * batch_idx / len(train_loader),\n",
    "                loss.item() / len(data)), end='')\n",
    "\n",
    "    print(' Average loss: {:.1f}'.format(\n",
    "         train_loss / len(train_loader.dataset)), end='')"
   ]
  },
  {
   "cell_type": "markdown",
   "metadata": {},
   "source": [
    "# Test"
   ]
  },
  {
   "cell_type": "code",
   "execution_count": 5,
   "metadata": {},
   "outputs": [],
   "source": [
    "def test(epoch, beta):\n",
    "    \"\"\"\n",
    "    The test phase of the model.\n",
    "    \"\"\"\n",
    "    model.eval()\n",
    "    test_loss = 0\n",
    "    with torch.no_grad():\n",
    "        for i, (data, _) in enumerate(test_loader):\n",
    "            data = data.to(device)\n",
    "            recon_batch, mu, logvar = model(data)\n",
    "            test_loss += loss_function(recon_batch, data.view(-1, 784), mu, logvar,beta)\n",
    "\n",
    "            if i == 0:\n",
    "                n = min(data.size(0), 8)\n",
    "                comparison = torch.cat([data[:n],\n",
    "                                      recon_batch.view(batchsize, 1, 28, 28)[:n]])\n",
    "                save_image(comparison.cpu(),\n",
    "                         'resultsVAE/reconstruction_' + str(epoch) + '.png', nrow=n)\n",
    "\n",
    "    test_loss /= len(test_loader.dataset)\n",
    "    print(' Test loss: {:.1f}'.format(test_loss))"
   ]
  },
  {
   "cell_type": "code",
   "execution_count": 6,
   "metadata": {},
   "outputs": [
    {
     "name": "stdout",
     "output_type": "stream",
     "text": [
      " Train Epoch: 1 [58880/60000 (98%)]\tLoss: 197.3 Average loss: 212.0 Test loss: 197.7\n",
      " Train Epoch: 2 [58880/60000 (98%)]\tLoss: 194.2 Average loss: 195.0 Test loss: 192.0\n",
      " Train Epoch: 3 [58880/60000 (98%)]\tLoss: 187.5 Average loss: 190.7 Test loss: 189.0\n",
      " Train Epoch: 4 [58880/60000 (98%)]\tLoss: 186.8 Average loss: 189.0 Test loss: 188.0\n",
      " Train Epoch: 5 [58880/60000 (98%)]\tLoss: 188.9 Average loss: 188.1 Test loss: 186.8\n",
      " Train Epoch: 6 [58880/60000 (98%)]\tLoss: 182.5 Average loss: 187.3 Test loss: 186.5\n",
      " Train Epoch: 7 [58880/60000 (98%)]\tLoss: 186.3 Average loss: 186.8 Test loss: 186.2\n",
      " Train Epoch: 8 [58880/60000 (98%)]\tLoss: 187.8 Average loss: 186.4 Test loss: 185.3\n",
      " Train Epoch: 9 [58880/60000 (98%)]\tLoss: 180.6 Average loss: 186.0 Test loss: 185.4\n",
      " Train Epoch: 10 [58880/60000 (98%)]\tLoss: 189.2 Average loss: 185.5 Test loss: 184.8\n"
     ]
    }
   ],
   "source": [
    "beta = 10\n",
    "for epoch in range(1, epochs + 1):\n",
    "    train(epoch, beta)\n",
    "    test(epoch, beta)\n",
    "    with torch.no_grad():\n",
    "         sample = torch.randn(64, 20).to(device)\n",
    "         sample = model.decode(sample).cpu()\n",
    "         save_image(sample.view(64, 1, 28, 28), 'resultsVAE/sample_' + str(epoch) + '.png')    "
   ]
  },
  {
   "cell_type": "code",
   "execution_count": 7,
   "metadata": {},
   "outputs": [
    {
     "data": {
      "text/plain": [
       "[<matplotlib.lines.Line2D at 0x7fe3ac372a20>]"
      ]
     },
     "execution_count": 7,
     "metadata": {},
     "output_type": "execute_result"
    },
    {
     "data": {
      "image/png": "[encoded data removed]",
      "text/plain": [
       "<Figure size 432x288 with 1 Axes>"
      ]
     },
     "metadata": {
      "needs_background": "light"
     },
     "output_type": "display_data"
    }
   ],
   "source": [
    "plt.plot(losses)"
   ]
  },
  {
   "cell_type": "code",
   "execution_count": 8,
   "metadata": {},
   "outputs": [
    {
     "data": {
      "image/png": "[encoded data removed]",
      "text/plain": [
       "<Figure size 432x288 with 1 Axes>"
      ]
     },
     "metadata": {
      "needs_background": "light"
     },
     "output_type": "display_data"
    },
    {
     "data": {
      "image/png": "[encoded data removed]",
      "text/plain": [
       "<Figure size 432x288 with 1 Axes>"
      ]
     },
     "metadata": {
      "needs_background": "light"
     },
     "output_type": "display_data"
    },
    {
     "data": {
      "image/png": "[encoded data removed]",
      "text/plain": [
       "<Figure size 432x288 with 1 Axes>"
      ]
     },
     "metadata": {
      "needs_background": "light"
     },
     "output_type": "display_data"
    }
   ],
   "source": [
    "#plot the gradient mean value for each FC layer across training\n",
    "#plot the gradient mean value for each FC layer across training\n",
    "#plt.plot(gradients)\n",
    "plt.plot(encode_grad)\n",
    "plt.show()\n",
    "plt.plot(fc1_grad)\n",
    "plt.show()\n",
    "plt.plot(fc2_grad)\n",
    "plt.show()"
   ]
  }
 ],
 "metadata": {
  "kernelspec": {
   "display_name": "Python 3",
   "language": "python",
   "name": "python3"
  },
  "language_info": {
   "codemirror_mode": {
    "name": "ipython",
    "version": 3
   },
   "file_extension": ".py",
   "mimetype": "text/x-python",
   "name": "python",
   "nbconvert_exporter": "python",
   "pygments_lexer": "ipython3",
   "version": "3.6.8"
  }
 },
 "nbformat": 4,
 "nbformat_minor": 2
}
